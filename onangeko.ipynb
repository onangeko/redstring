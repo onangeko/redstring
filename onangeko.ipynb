{
 "cells": [
  {
   "cell_type": "code",
   "execution_count": 1,
   "outputs": [],
   "source": [
    "import numpy as np\n",
    "import pandas as pd\n",
    "from pandas.api.types import is_string_dtype, is_numeric_dtype\n",
    "import warnings\n",
    "warnings.filterwarnings(\"ignore\")\n",
    "import datetime as dt\n",
    "import seaborn as sns\n",
    "import matplotlib.pyplot as plt"
   ],
   "metadata": {
    "collapsed": false
   }
  },
  {
   "cell_type": "markdown",
   "source": [
    "Explorations de donnees\n",
    "\n"
   ],
   "metadata": {
    "collapsed": false
   }
  },
  {
   "cell_type": "code",
   "execution_count": 2,
   "outputs": [],
   "source": [
    "customers = pd.read_csv(\"datas/olist_customers_dataset.csv\")\n",
    "order_items = pd.read_csv(\"datas/olist_order_items_dataset.csv\")\n",
    "order_payments = pd.read_csv(\"datas/olist_order_payments_dataset.csv\")\n",
    "orders = pd.read_csv(\"datas/olist_orders_dataset.csv\")"
   ],
   "metadata": {
    "collapsed": false
   }
  },
  {
   "cell_type": "code",
   "execution_count": 3,
   "outputs": [],
   "source": [
    "dataset = {\n",
    "    'Customers': customers,\n",
    "    'Order Items': order_items,\n",
    "    'Payments': order_payments,\n",
    "    'Orders': orders\n",
    "}"
   ],
   "metadata": {
    "collapsed": false
   }
  },
  {
   "cell_type": "code",
   "execution_count": 4,
   "outputs": [
    {
     "name": "stdout",
     "output_type": "stream",
     "text": [
      "Customers (99441, 5)\n",
      "Order Items (112650, 7)\n",
      "Payments (103886, 5)\n",
      "Orders (99441, 8)\n"
     ]
    }
   ],
   "source": [
    "#Shapes\n",
    "for x,y in dataset.items():\n",
    "    print(x,y.shape)"
   ],
   "metadata": {
    "collapsed": false
   }
  },
  {
   "cell_type": "code",
   "execution_count": 5,
   "outputs": [
    {
     "name": "stdout",
     "output_type": "stream",
     "text": [
      "Customers \n",
      "\n",
      "customer_id                 0\n",
      "customer_unique_id          0\n",
      "customer_zip_code_prefix    0\n",
      "customer_city               0\n",
      "customer_state              0\n",
      "dtype: int64 \n",
      "\n",
      "Order Items \n",
      "\n",
      "order_id               0\n",
      "order_item_id          0\n",
      "product_id             0\n",
      "seller_id              0\n",
      "shipping_limit_date    0\n",
      "price                  0\n",
      "freight_value          0\n",
      "dtype: int64 \n",
      "\n",
      "Payments \n",
      "\n",
      "order_id                0\n",
      "payment_sequential      0\n",
      "payment_type            0\n",
      "payment_installments    0\n",
      "payment_value           0\n",
      "dtype: int64 \n",
      "\n",
      "Orders \n",
      "\n",
      "order_id                            0\n",
      "customer_id                         0\n",
      "order_status                        0\n",
      "order_purchase_timestamp            0\n",
      "order_approved_at                 160\n",
      "order_delivered_carrier_date     1783\n",
      "order_delivered_customer_date    2965\n",
      "order_estimated_delivery_date       0\n",
      "dtype: int64 \n",
      "\n"
     ]
    }
   ],
   "source": [
    "#Finding NaN values\n",
    "for x,y in dataset.items():\n",
    "    print(x,'\\n')\n",
    "    print(y.isna().sum(),'\\n')"
   ],
   "metadata": {
    "collapsed": false
   }
  },
  {
   "cell_type": "code",
   "execution_count": 6,
   "outputs": [
    {
     "name": "stdout",
     "output_type": "stream",
     "text": [
      "Customers \n",
      "\n",
      "0 \n",
      "\n",
      "Order Items \n",
      "\n",
      "0 \n",
      "\n",
      "Payments \n",
      "\n",
      "0 \n",
      "\n",
      "Orders \n",
      "\n",
      "0 \n",
      "\n"
     ]
    }
   ],
   "source": [
    "#Finding duplicates\n",
    "for x,y in dataset.items():\n",
    "    print(x,'\\n')\n",
    "    print(y.duplicated().sum(),'\\n')"
   ],
   "metadata": {
    "collapsed": false
   }
  },
  {
   "cell_type": "code",
   "execution_count": 7,
   "outputs": [
    {
     "data": {
      "text/plain": "                           order_id                       customer_id  \\\n0  e481f51cbdc54678b7cc49136f2d6af7  9ef432eb6251297304e76186b10a928d   \n1  e481f51cbdc54678b7cc49136f2d6af7  9ef432eb6251297304e76186b10a928d   \n2  e481f51cbdc54678b7cc49136f2d6af7  9ef432eb6251297304e76186b10a928d   \n3  53cdb2fc8bc7dce0b6741e2150273451  b0830fb4747a6c6d20dea0b8c802d7ef   \n4  47770eb9100c2d0c44946d9cf07ec65d  41ce2a54c0b03bf3443c3d931a367089   \n\n  order_status order_purchase_timestamp    order_approved_at  \\\n0    delivered      2017-10-02 10:56:33  2017-10-02 11:07:15   \n1    delivered      2017-10-02 10:56:33  2017-10-02 11:07:15   \n2    delivered      2017-10-02 10:56:33  2017-10-02 11:07:15   \n3    delivered      2018-07-24 20:41:37  2018-07-26 03:24:27   \n4    delivered      2018-08-08 08:38:49  2018-08-08 08:55:23   \n\n  order_delivered_carrier_date order_delivered_customer_date  \\\n0          2017-10-04 19:55:00           2017-10-10 21:25:13   \n1          2017-10-04 19:55:00           2017-10-10 21:25:13   \n2          2017-10-04 19:55:00           2017-10-10 21:25:13   \n3          2018-07-26 14:31:00           2018-08-07 15:27:45   \n4          2018-08-08 13:50:00           2018-08-17 18:06:29   \n\n  order_estimated_delivery_date  payment_sequential payment_type  ...  \\\n0           2017-10-18 00:00:00                   1  credit_card  ...   \n1           2017-10-18 00:00:00                   3      voucher  ...   \n2           2017-10-18 00:00:00                   2      voucher  ...   \n3           2018-08-13 00:00:00                   1       boleto  ...   \n4           2018-09-04 00:00:00                   1  credit_card  ...   \n\n                 customer_unique_id  customer_zip_code_prefix customer_city  \\\n0  7c396fd4830fd04220f754e42b4e5bff                      3149     sao paulo   \n1  7c396fd4830fd04220f754e42b4e5bff                      3149     sao paulo   \n2  7c396fd4830fd04220f754e42b4e5bff                      3149     sao paulo   \n3  af07308b275d755c9edb36a90c618231                     47813     barreiras   \n4  3a653a41f6f9fc3d2a113cf8398680e8                     75265    vianopolis   \n\n   customer_state order_item_id                        product_id  \\\n0              SP             1  87285b34884572647811a353c7ac498a   \n1              SP             1  87285b34884572647811a353c7ac498a   \n2              SP             1  87285b34884572647811a353c7ac498a   \n3              BA             1  595fac2a385ac33a80bd5114aec74eb8   \n4              GO             1  aa4383b373c6aca5d8797843e5594415   \n\n                          seller_id  shipping_limit_date   price freight_value  \n0  3504c0cb71d7fa48d967e0e4c94d59d9  2017-10-06 11:07:15   29.99          8.72  \n1  3504c0cb71d7fa48d967e0e4c94d59d9  2017-10-06 11:07:15   29.99          8.72  \n2  3504c0cb71d7fa48d967e0e4c94d59d9  2017-10-06 11:07:15   29.99          8.72  \n3  289cdb325fb7e7f891c38608bf9e0962  2018-07-30 03:24:27  118.70         22.76  \n4  4869f7a5dfa277a7dca6462dcf3b52b2  2018-08-13 08:55:23  159.90         19.22  \n\n[5 rows x 22 columns]",
      "text/html": "<div>\n<style scoped>\n    .dataframe tbody tr th:only-of-type {\n        vertical-align: middle;\n    }\n\n    .dataframe tbody tr th {\n        vertical-align: top;\n    }\n\n    .dataframe thead th {\n        text-align: right;\n    }\n</style>\n<table border=\"1\" class=\"dataframe\">\n  <thead>\n    <tr style=\"text-align: right;\">\n      <th></th>\n      <th>order_id</th>\n      <th>customer_id</th>\n      <th>order_status</th>\n      <th>order_purchase_timestamp</th>\n      <th>order_approved_at</th>\n      <th>order_delivered_carrier_date</th>\n      <th>order_delivered_customer_date</th>\n      <th>order_estimated_delivery_date</th>\n      <th>payment_sequential</th>\n      <th>payment_type</th>\n      <th>...</th>\n      <th>customer_unique_id</th>\n      <th>customer_zip_code_prefix</th>\n      <th>customer_city</th>\n      <th>customer_state</th>\n      <th>order_item_id</th>\n      <th>product_id</th>\n      <th>seller_id</th>\n      <th>shipping_limit_date</th>\n      <th>price</th>\n      <th>freight_value</th>\n    </tr>\n  </thead>\n  <tbody>\n    <tr>\n      <th>0</th>\n      <td>e481f51cbdc54678b7cc49136f2d6af7</td>\n      <td>9ef432eb6251297304e76186b10a928d</td>\n      <td>delivered</td>\n      <td>2017-10-02 10:56:33</td>\n      <td>2017-10-02 11:07:15</td>\n      <td>2017-10-04 19:55:00</td>\n      <td>2017-10-10 21:25:13</td>\n      <td>2017-10-18 00:00:00</td>\n      <td>1</td>\n      <td>credit_card</td>\n      <td>...</td>\n      <td>7c396fd4830fd04220f754e42b4e5bff</td>\n      <td>3149</td>\n      <td>sao paulo</td>\n      <td>SP</td>\n      <td>1</td>\n      <td>87285b34884572647811a353c7ac498a</td>\n      <td>3504c0cb71d7fa48d967e0e4c94d59d9</td>\n      <td>2017-10-06 11:07:15</td>\n      <td>29.99</td>\n      <td>8.72</td>\n    </tr>\n    <tr>\n      <th>1</th>\n      <td>e481f51cbdc54678b7cc49136f2d6af7</td>\n      <td>9ef432eb6251297304e76186b10a928d</td>\n      <td>delivered</td>\n      <td>2017-10-02 10:56:33</td>\n      <td>2017-10-02 11:07:15</td>\n      <td>2017-10-04 19:55:00</td>\n      <td>2017-10-10 21:25:13</td>\n      <td>2017-10-18 00:00:00</td>\n      <td>3</td>\n      <td>voucher</td>\n      <td>...</td>\n      <td>7c396fd4830fd04220f754e42b4e5bff</td>\n      <td>3149</td>\n      <td>sao paulo</td>\n      <td>SP</td>\n      <td>1</td>\n      <td>87285b34884572647811a353c7ac498a</td>\n      <td>3504c0cb71d7fa48d967e0e4c94d59d9</td>\n      <td>2017-10-06 11:07:15</td>\n      <td>29.99</td>\n      <td>8.72</td>\n    </tr>\n    <tr>\n      <th>2</th>\n      <td>e481f51cbdc54678b7cc49136f2d6af7</td>\n      <td>9ef432eb6251297304e76186b10a928d</td>\n      <td>delivered</td>\n      <td>2017-10-02 10:56:33</td>\n      <td>2017-10-02 11:07:15</td>\n      <td>2017-10-04 19:55:00</td>\n      <td>2017-10-10 21:25:13</td>\n      <td>2017-10-18 00:00:00</td>\n      <td>2</td>\n      <td>voucher</td>\n      <td>...</td>\n      <td>7c396fd4830fd04220f754e42b4e5bff</td>\n      <td>3149</td>\n      <td>sao paulo</td>\n      <td>SP</td>\n      <td>1</td>\n      <td>87285b34884572647811a353c7ac498a</td>\n      <td>3504c0cb71d7fa48d967e0e4c94d59d9</td>\n      <td>2017-10-06 11:07:15</td>\n      <td>29.99</td>\n      <td>8.72</td>\n    </tr>\n    <tr>\n      <th>3</th>\n      <td>53cdb2fc8bc7dce0b6741e2150273451</td>\n      <td>b0830fb4747a6c6d20dea0b8c802d7ef</td>\n      <td>delivered</td>\n      <td>2018-07-24 20:41:37</td>\n      <td>2018-07-26 03:24:27</td>\n      <td>2018-07-26 14:31:00</td>\n      <td>2018-08-07 15:27:45</td>\n      <td>2018-08-13 00:00:00</td>\n      <td>1</td>\n      <td>boleto</td>\n      <td>...</td>\n      <td>af07308b275d755c9edb36a90c618231</td>\n      <td>47813</td>\n      <td>barreiras</td>\n      <td>BA</td>\n      <td>1</td>\n      <td>595fac2a385ac33a80bd5114aec74eb8</td>\n      <td>289cdb325fb7e7f891c38608bf9e0962</td>\n      <td>2018-07-30 03:24:27</td>\n      <td>118.70</td>\n      <td>22.76</td>\n    </tr>\n    <tr>\n      <th>4</th>\n      <td>47770eb9100c2d0c44946d9cf07ec65d</td>\n      <td>41ce2a54c0b03bf3443c3d931a367089</td>\n      <td>delivered</td>\n      <td>2018-08-08 08:38:49</td>\n      <td>2018-08-08 08:55:23</td>\n      <td>2018-08-08 13:50:00</td>\n      <td>2018-08-17 18:06:29</td>\n      <td>2018-09-04 00:00:00</td>\n      <td>1</td>\n      <td>credit_card</td>\n      <td>...</td>\n      <td>3a653a41f6f9fc3d2a113cf8398680e8</td>\n      <td>75265</td>\n      <td>vianopolis</td>\n      <td>GO</td>\n      <td>1</td>\n      <td>aa4383b373c6aca5d8797843e5594415</td>\n      <td>4869f7a5dfa277a7dca6462dcf3b52b2</td>\n      <td>2018-08-13 08:55:23</td>\n      <td>159.90</td>\n      <td>19.22</td>\n    </tr>\n  </tbody>\n</table>\n<p>5 rows × 22 columns</p>\n</div>"
     },
     "execution_count": 7,
     "metadata": {},
     "output_type": "execute_result"
    }
   ],
   "source": [
    "df = pd.merge(orders,order_payments,on='order_id')\n",
    "df = df.merge(customers,on='customer_id')\n",
    "df = df.merge(order_items,on='order_id')\n",
    "df.head()"
   ],
   "metadata": {
    "collapsed": false
   }
  },
  {
   "cell_type": "code",
   "execution_count": 8,
   "outputs": [
    {
     "data": {
      "text/plain": "       payment_sequential  payment_installments  payment_value  \\\ncount       117601.000000         117601.000000  117601.000000   \nmean             1.093528              2.939482     172.686752   \nstd              0.726692              2.774223     267.592290   \nmin              1.000000              0.000000       0.000000   \n25%              1.000000              1.000000      60.870000   \n50%              1.000000              2.000000     108.210000   \n75%              1.000000              4.000000     189.260000   \nmax             29.000000             24.000000   13664.080000   \n\n       customer_zip_code_prefix  order_item_id          price  freight_value  \ncount             117601.000000  117601.000000  117601.000000  117601.000000  \nmean               35051.793097       1.195900     120.824783      20.045990  \nstd                29820.588877       0.697706     184.479323      15.861315  \nmin                 1003.000000       1.000000       0.850000       0.000000  \n25%                11310.000000       1.000000      39.900000      13.080000  \n50%                24315.000000       1.000000      74.900000      16.290000  \n75%                58600.000000       1.000000     134.900000      21.190000  \nmax                99990.000000      21.000000    6735.000000     409.680000  ",
      "text/html": "<div>\n<style scoped>\n    .dataframe tbody tr th:only-of-type {\n        vertical-align: middle;\n    }\n\n    .dataframe tbody tr th {\n        vertical-align: top;\n    }\n\n    .dataframe thead th {\n        text-align: right;\n    }\n</style>\n<table border=\"1\" class=\"dataframe\">\n  <thead>\n    <tr style=\"text-align: right;\">\n      <th></th>\n      <th>payment_sequential</th>\n      <th>payment_installments</th>\n      <th>payment_value</th>\n      <th>customer_zip_code_prefix</th>\n      <th>order_item_id</th>\n      <th>price</th>\n      <th>freight_value</th>\n    </tr>\n  </thead>\n  <tbody>\n    <tr>\n      <th>count</th>\n      <td>117601.000000</td>\n      <td>117601.000000</td>\n      <td>117601.000000</td>\n      <td>117601.000000</td>\n      <td>117601.000000</td>\n      <td>117601.000000</td>\n      <td>117601.000000</td>\n    </tr>\n    <tr>\n      <th>mean</th>\n      <td>1.093528</td>\n      <td>2.939482</td>\n      <td>172.686752</td>\n      <td>35051.793097</td>\n      <td>1.195900</td>\n      <td>120.824783</td>\n      <td>20.045990</td>\n    </tr>\n    <tr>\n      <th>std</th>\n      <td>0.726692</td>\n      <td>2.774223</td>\n      <td>267.592290</td>\n      <td>29820.588877</td>\n      <td>0.697706</td>\n      <td>184.479323</td>\n      <td>15.861315</td>\n    </tr>\n    <tr>\n      <th>min</th>\n      <td>1.000000</td>\n      <td>0.000000</td>\n      <td>0.000000</td>\n      <td>1003.000000</td>\n      <td>1.000000</td>\n      <td>0.850000</td>\n      <td>0.000000</td>\n    </tr>\n    <tr>\n      <th>25%</th>\n      <td>1.000000</td>\n      <td>1.000000</td>\n      <td>60.870000</td>\n      <td>11310.000000</td>\n      <td>1.000000</td>\n      <td>39.900000</td>\n      <td>13.080000</td>\n    </tr>\n    <tr>\n      <th>50%</th>\n      <td>1.000000</td>\n      <td>2.000000</td>\n      <td>108.210000</td>\n      <td>24315.000000</td>\n      <td>1.000000</td>\n      <td>74.900000</td>\n      <td>16.290000</td>\n    </tr>\n    <tr>\n      <th>75%</th>\n      <td>1.000000</td>\n      <td>4.000000</td>\n      <td>189.260000</td>\n      <td>58600.000000</td>\n      <td>1.000000</td>\n      <td>134.900000</td>\n      <td>21.190000</td>\n    </tr>\n    <tr>\n      <th>max</th>\n      <td>29.000000</td>\n      <td>24.000000</td>\n      <td>13664.080000</td>\n      <td>99990.000000</td>\n      <td>21.000000</td>\n      <td>6735.000000</td>\n      <td>409.680000</td>\n    </tr>\n  </tbody>\n</table>\n</div>"
     },
     "execution_count": 8,
     "metadata": {},
     "output_type": "execute_result"
    }
   ],
   "source": [
    "df.describe()"
   ],
   "metadata": {
    "collapsed": false
   }
  },
  {
   "cell_type": "code",
   "execution_count": 9,
   "outputs": [],
   "source": [
    "df['order_purchase_timestamp'] =pd.to_datetime(df['order_purchase_timestamp'])"
   ],
   "metadata": {
    "collapsed": false
   }
  },
  {
   "cell_type": "code",
   "execution_count": 10,
   "outputs": [
    {
     "name": "stdout",
     "output_type": "stream",
     "text": [
      "Numerical data : ['payment_sequential', 'payment_installments', 'payment_value', 'customer_zip_code_prefix', 'order_item_id', 'price', 'freight_value']\n",
      "Categorical data : ['order_id', 'customer_id', 'order_status', 'order_approved_at', 'order_delivered_carrier_date', 'order_delivered_customer_date', 'order_estimated_delivery_date', 'payment_type', 'customer_unique_id', 'customer_city', 'customer_state', 'product_id', 'seller_id', 'shipping_limit_date']\n"
     ]
    }
   ],
   "source": [
    "num_list = []\n",
    "cat_list = []\n",
    "\n",
    "for column in df:\n",
    "    if is_numeric_dtype(df[column]):\n",
    "        num_list.append(column)\n",
    "    if is_string_dtype(df[column]):\n",
    "        cat_list.append(column)\n",
    "\n",
    "print(\"Numerical data :\",num_list)\n",
    "print(\"Categorical data :\",cat_list)"
   ],
   "metadata": {
    "collapsed": false
   }
  },
  {
   "cell_type": "markdown",
   "source": [
    "RFM Analysis"
   ],
   "metadata": {
    "collapsed": false
   }
  },
  {
   "cell_type": "markdown",
   "source": [
    "RFM stands for Recency, Frequency, and Monetary value, each corresponding to some key customer trait. These RFM metrics are important indicators of a customer's behavior because frequency and monetary value affects a customer's lifetime value, and recency affects retention, a measure of engagement."
   ],
   "metadata": {
    "collapsed": false
   }
  },
  {
   "cell_type": "markdown",
   "source": [
    "https://d35fo82fjcw0y8.cloudfront.net/2018/03/01013508/Incontent_image.png\n"
   ],
   "metadata": {
    "collapsed": false
   }
  },
  {
   "cell_type": "markdown",
   "source": [
    "RECENCY\n",
    "Pour calculer la récence, nous devons connaître la date d'achat la plus récente de chaque client et voir pendant combien de jours ils sont inactifs"
   ],
   "metadata": {
    "collapsed": false
   }
  },
  {
   "cell_type": "code",
   "execution_count": 11,
   "outputs": [
    {
     "data": {
      "text/plain": "                     customer_unique_id  Recency\n0      0000366f3b9a7992bf8c76cfdf3221e2      116\n1      0000b849f77a49e4a4ce2b2a4ca5be3f      119\n2      0000f46a3911fa3c0805444483337064      542\n3      0000f6ccb0745a6a4b88665a16c9f078      326\n4      0004aac84e0df4da2b147fca70cf8255      293\n...                                 ...      ...\n95414  fffcf5a5ff07b0908bd4e2dbc735a684      452\n95415  fffea47cd6d3cc0a88bd621562a9d061      267\n95416  ffff371b4d645b6ecea244b27531430a      573\n95417  ffff5962728ec6157033ef9805bacc48      124\n95418  ffffd2657e2aad2907e67c3e9daecbeb      489\n\n[95419 rows x 2 columns]",
      "text/html": "<div>\n<style scoped>\n    .dataframe tbody tr th:only-of-type {\n        vertical-align: middle;\n    }\n\n    .dataframe tbody tr th {\n        vertical-align: top;\n    }\n\n    .dataframe thead th {\n        text-align: right;\n    }\n</style>\n<table border=\"1\" class=\"dataframe\">\n  <thead>\n    <tr style=\"text-align: right;\">\n      <th></th>\n      <th>customer_unique_id</th>\n      <th>Recency</th>\n    </tr>\n  </thead>\n  <tbody>\n    <tr>\n      <th>0</th>\n      <td>0000366f3b9a7992bf8c76cfdf3221e2</td>\n      <td>116</td>\n    </tr>\n    <tr>\n      <th>1</th>\n      <td>0000b849f77a49e4a4ce2b2a4ca5be3f</td>\n      <td>119</td>\n    </tr>\n    <tr>\n      <th>2</th>\n      <td>0000f46a3911fa3c0805444483337064</td>\n      <td>542</td>\n    </tr>\n    <tr>\n      <th>3</th>\n      <td>0000f6ccb0745a6a4b88665a16c9f078</td>\n      <td>326</td>\n    </tr>\n    <tr>\n      <th>4</th>\n      <td>0004aac84e0df4da2b147fca70cf8255</td>\n      <td>293</td>\n    </tr>\n    <tr>\n      <th>...</th>\n      <td>...</td>\n      <td>...</td>\n    </tr>\n    <tr>\n      <th>95414</th>\n      <td>fffcf5a5ff07b0908bd4e2dbc735a684</td>\n      <td>452</td>\n    </tr>\n    <tr>\n      <th>95415</th>\n      <td>fffea47cd6d3cc0a88bd621562a9d061</td>\n      <td>267</td>\n    </tr>\n    <tr>\n      <th>95416</th>\n      <td>ffff371b4d645b6ecea244b27531430a</td>\n      <td>573</td>\n    </tr>\n    <tr>\n      <th>95417</th>\n      <td>ffff5962728ec6157033ef9805bacc48</td>\n      <td>124</td>\n    </tr>\n    <tr>\n      <th>95418</th>\n      <td>ffffd2657e2aad2907e67c3e9daecbeb</td>\n      <td>489</td>\n    </tr>\n  </tbody>\n</table>\n<p>95419 rows × 2 columns</p>\n</div>"
     },
     "execution_count": 11,
     "metadata": {},
     "output_type": "execute_result"
    }
   ],
   "source": [
    "#grouping customers by their most recent purchase\n",
    "recency = df.groupby('customer_unique_id').order_purchase_timestamp.max().reset_index()\n",
    "\n",
    "# we find the most recent purchase value\n",
    "most_recent_purchase_date = df['order_purchase_timestamp'].dt.date.max()\n",
    "\n",
    "#we convert the timestamps into datetime object\n",
    "recency[\"order_purchase_timestamp\"] = recency[\"order_purchase_timestamp\"].dt.date\n",
    "\n",
    "#now ce calculate recency score for each customers\n",
    "recency['Recency'] = recency['order_purchase_timestamp'].apply(lambda x: (most_recent_purchase_date - x).days)\n",
    "recency.drop(columns='order_purchase_timestamp')\n",
    "\n"
   ],
   "metadata": {
    "collapsed": false
   }
  },
  {
   "cell_type": "markdown",
   "source": [
    "FREQUENCY\n",
    "its the total number orders for each customer"
   ],
   "metadata": {
    "collapsed": false
   }
  },
  {
   "cell_type": "code",
   "execution_count": 12,
   "outputs": [
    {
     "data": {
      "text/plain": "                     customer_unique_id  Frequency\n0      0000366f3b9a7992bf8c76cfdf3221e2          1\n1      0000b849f77a49e4a4ce2b2a4ca5be3f          1\n2      0000f46a3911fa3c0805444483337064          1\n3      0000f6ccb0745a6a4b88665a16c9f078          1\n4      0004aac84e0df4da2b147fca70cf8255          1\n...                                 ...        ...\n95414  fffcf5a5ff07b0908bd4e2dbc735a684          2\n95415  fffea47cd6d3cc0a88bd621562a9d061          1\n95416  ffff371b4d645b6ecea244b27531430a          1\n95417  ffff5962728ec6157033ef9805bacc48          1\n95418  ffffd2657e2aad2907e67c3e9daecbeb          1\n\n[95419 rows x 2 columns]",
      "text/html": "<div>\n<style scoped>\n    .dataframe tbody tr th:only-of-type {\n        vertical-align: middle;\n    }\n\n    .dataframe tbody tr th {\n        vertical-align: top;\n    }\n\n    .dataframe thead th {\n        text-align: right;\n    }\n</style>\n<table border=\"1\" class=\"dataframe\">\n  <thead>\n    <tr style=\"text-align: right;\">\n      <th></th>\n      <th>customer_unique_id</th>\n      <th>Frequency</th>\n    </tr>\n  </thead>\n  <tbody>\n    <tr>\n      <th>0</th>\n      <td>0000366f3b9a7992bf8c76cfdf3221e2</td>\n      <td>1</td>\n    </tr>\n    <tr>\n      <th>1</th>\n      <td>0000b849f77a49e4a4ce2b2a4ca5be3f</td>\n      <td>1</td>\n    </tr>\n    <tr>\n      <th>2</th>\n      <td>0000f46a3911fa3c0805444483337064</td>\n      <td>1</td>\n    </tr>\n    <tr>\n      <th>3</th>\n      <td>0000f6ccb0745a6a4b88665a16c9f078</td>\n      <td>1</td>\n    </tr>\n    <tr>\n      <th>4</th>\n      <td>0004aac84e0df4da2b147fca70cf8255</td>\n      <td>1</td>\n    </tr>\n    <tr>\n      <th>...</th>\n      <td>...</td>\n      <td>...</td>\n    </tr>\n    <tr>\n      <th>95414</th>\n      <td>fffcf5a5ff07b0908bd4e2dbc735a684</td>\n      <td>2</td>\n    </tr>\n    <tr>\n      <th>95415</th>\n      <td>fffea47cd6d3cc0a88bd621562a9d061</td>\n      <td>1</td>\n    </tr>\n    <tr>\n      <th>95416</th>\n      <td>ffff371b4d645b6ecea244b27531430a</td>\n      <td>1</td>\n    </tr>\n    <tr>\n      <th>95417</th>\n      <td>ffff5962728ec6157033ef9805bacc48</td>\n      <td>1</td>\n    </tr>\n    <tr>\n      <th>95418</th>\n      <td>ffffd2657e2aad2907e67c3e9daecbeb</td>\n      <td>1</td>\n    </tr>\n  </tbody>\n</table>\n<p>95419 rows × 2 columns</p>\n</div>"
     },
     "execution_count": 12,
     "metadata": {},
     "output_type": "execute_result"
    }
   ],
   "source": [
    "frequency = df.groupby('customer_unique_id').order_purchase_timestamp.count().reset_index()\n",
    "frequency.rename(columns={'order_purchase_timestamp':'Frequency'},inplace=True)\n",
    "frequency"
   ],
   "metadata": {
    "collapsed": false
   }
  },
  {
   "cell_type": "markdown",
   "source": [
    "MONETARY\n",
    "\n",
    "Monetary score is assigned on the basis of the total revenue generated by the customer in the period under consideration for the analysis. Customers with highest revenue/order amount are assigned a higher score."
   ],
   "metadata": {
    "collapsed": false
   }
  },
  {
   "cell_type": "code",
   "execution_count": 13,
   "outputs": [
    {
     "data": {
      "text/plain": "                     customer_unique_id  Monetary\n0      0000366f3b9a7992bf8c76cfdf3221e2    141.90\n1      0000b849f77a49e4a4ce2b2a4ca5be3f     27.19\n2      0000f46a3911fa3c0805444483337064     86.22\n3      0000f6ccb0745a6a4b88665a16c9f078     43.62\n4      0004aac84e0df4da2b147fca70cf8255    196.89\n...                                 ...       ...\n95414  fffcf5a5ff07b0908bd4e2dbc735a684   4134.84\n95415  fffea47cd6d3cc0a88bd621562a9d061     84.58\n95416  ffff371b4d645b6ecea244b27531430a    112.46\n95417  ffff5962728ec6157033ef9805bacc48    133.69\n95418  ffffd2657e2aad2907e67c3e9daecbeb     71.56\n\n[95419 rows x 2 columns]",
      "text/html": "<div>\n<style scoped>\n    .dataframe tbody tr th:only-of-type {\n        vertical-align: middle;\n    }\n\n    .dataframe tbody tr th {\n        vertical-align: top;\n    }\n\n    .dataframe thead th {\n        text-align: right;\n    }\n</style>\n<table border=\"1\" class=\"dataframe\">\n  <thead>\n    <tr style=\"text-align: right;\">\n      <th></th>\n      <th>customer_unique_id</th>\n      <th>Monetary</th>\n    </tr>\n  </thead>\n  <tbody>\n    <tr>\n      <th>0</th>\n      <td>0000366f3b9a7992bf8c76cfdf3221e2</td>\n      <td>141.90</td>\n    </tr>\n    <tr>\n      <th>1</th>\n      <td>0000b849f77a49e4a4ce2b2a4ca5be3f</td>\n      <td>27.19</td>\n    </tr>\n    <tr>\n      <th>2</th>\n      <td>0000f46a3911fa3c0805444483337064</td>\n      <td>86.22</td>\n    </tr>\n    <tr>\n      <th>3</th>\n      <td>0000f6ccb0745a6a4b88665a16c9f078</td>\n      <td>43.62</td>\n    </tr>\n    <tr>\n      <th>4</th>\n      <td>0004aac84e0df4da2b147fca70cf8255</td>\n      <td>196.89</td>\n    </tr>\n    <tr>\n      <th>...</th>\n      <td>...</td>\n      <td>...</td>\n    </tr>\n    <tr>\n      <th>95414</th>\n      <td>fffcf5a5ff07b0908bd4e2dbc735a684</td>\n      <td>4134.84</td>\n    </tr>\n    <tr>\n      <th>95415</th>\n      <td>fffea47cd6d3cc0a88bd621562a9d061</td>\n      <td>84.58</td>\n    </tr>\n    <tr>\n      <th>95416</th>\n      <td>ffff371b4d645b6ecea244b27531430a</td>\n      <td>112.46</td>\n    </tr>\n    <tr>\n      <th>95417</th>\n      <td>ffff5962728ec6157033ef9805bacc48</td>\n      <td>133.69</td>\n    </tr>\n    <tr>\n      <th>95418</th>\n      <td>ffffd2657e2aad2907e67c3e9daecbeb</td>\n      <td>71.56</td>\n    </tr>\n  </tbody>\n</table>\n<p>95419 rows × 2 columns</p>\n</div>"
     },
     "execution_count": 13,
     "metadata": {},
     "output_type": "execute_result"
    }
   ],
   "source": [
    "monetary = df.groupby('customer_unique_id').payment_value.sum().reset_index()\n",
    "monetary.rename(columns={'payment_value':'Monetary'},inplace=True)\n",
    "monetary"
   ],
   "metadata": {
    "collapsed": false
   }
  },
  {
   "cell_type": "code",
   "execution_count": 14,
   "outputs": [
    {
     "data": {
      "text/plain": "                     customer_unique_id  Recency  Frequency  Monetary\n0      0000366f3b9a7992bf8c76cfdf3221e2      116          1    141.90\n1      0000b849f77a49e4a4ce2b2a4ca5be3f      119          1     27.19\n2      0000f46a3911fa3c0805444483337064      542          1     86.22\n3      0000f6ccb0745a6a4b88665a16c9f078      326          1     43.62\n4      0004aac84e0df4da2b147fca70cf8255      293          1    196.89\n...                                 ...      ...        ...       ...\n95414  fffcf5a5ff07b0908bd4e2dbc735a684      452          2   4134.84\n95415  fffea47cd6d3cc0a88bd621562a9d061      267          1     84.58\n95416  ffff371b4d645b6ecea244b27531430a      573          1    112.46\n95417  ffff5962728ec6157033ef9805bacc48      124          1    133.69\n95418  ffffd2657e2aad2907e67c3e9daecbeb      489          1     71.56\n\n[95419 rows x 4 columns]",
      "text/html": "<div>\n<style scoped>\n    .dataframe tbody tr th:only-of-type {\n        vertical-align: middle;\n    }\n\n    .dataframe tbody tr th {\n        vertical-align: top;\n    }\n\n    .dataframe thead th {\n        text-align: right;\n    }\n</style>\n<table border=\"1\" class=\"dataframe\">\n  <thead>\n    <tr style=\"text-align: right;\">\n      <th></th>\n      <th>customer_unique_id</th>\n      <th>Recency</th>\n      <th>Frequency</th>\n      <th>Monetary</th>\n    </tr>\n  </thead>\n  <tbody>\n    <tr>\n      <th>0</th>\n      <td>0000366f3b9a7992bf8c76cfdf3221e2</td>\n      <td>116</td>\n      <td>1</td>\n      <td>141.90</td>\n    </tr>\n    <tr>\n      <th>1</th>\n      <td>0000b849f77a49e4a4ce2b2a4ca5be3f</td>\n      <td>119</td>\n      <td>1</td>\n      <td>27.19</td>\n    </tr>\n    <tr>\n      <th>2</th>\n      <td>0000f46a3911fa3c0805444483337064</td>\n      <td>542</td>\n      <td>1</td>\n      <td>86.22</td>\n    </tr>\n    <tr>\n      <th>3</th>\n      <td>0000f6ccb0745a6a4b88665a16c9f078</td>\n      <td>326</td>\n      <td>1</td>\n      <td>43.62</td>\n    </tr>\n    <tr>\n      <th>4</th>\n      <td>0004aac84e0df4da2b147fca70cf8255</td>\n      <td>293</td>\n      <td>1</td>\n      <td>196.89</td>\n    </tr>\n    <tr>\n      <th>...</th>\n      <td>...</td>\n      <td>...</td>\n      <td>...</td>\n      <td>...</td>\n    </tr>\n    <tr>\n      <th>95414</th>\n      <td>fffcf5a5ff07b0908bd4e2dbc735a684</td>\n      <td>452</td>\n      <td>2</td>\n      <td>4134.84</td>\n    </tr>\n    <tr>\n      <th>95415</th>\n      <td>fffea47cd6d3cc0a88bd621562a9d061</td>\n      <td>267</td>\n      <td>1</td>\n      <td>84.58</td>\n    </tr>\n    <tr>\n      <th>95416</th>\n      <td>ffff371b4d645b6ecea244b27531430a</td>\n      <td>573</td>\n      <td>1</td>\n      <td>112.46</td>\n    </tr>\n    <tr>\n      <th>95417</th>\n      <td>ffff5962728ec6157033ef9805bacc48</td>\n      <td>124</td>\n      <td>1</td>\n      <td>133.69</td>\n    </tr>\n    <tr>\n      <th>95418</th>\n      <td>ffffd2657e2aad2907e67c3e9daecbeb</td>\n      <td>489</td>\n      <td>1</td>\n      <td>71.56</td>\n    </tr>\n  </tbody>\n</table>\n<p>95419 rows × 4 columns</p>\n</div>"
     },
     "execution_count": 14,
     "metadata": {},
     "output_type": "execute_result"
    }
   ],
   "source": [
    "#merge the dataframes\n",
    "rf = recency.merge(frequency, on='customer_unique_id')\n",
    "rfm = rf.merge(monetary, on='customer_unique_id').drop(columns='order_purchase_timestamp')\n",
    "\n",
    "rfm"
   ],
   "metadata": {
    "collapsed": false
   }
  },
  {
   "cell_type": "code",
   "execution_count": 15,
   "outputs": [
    {
     "data": {
      "text/plain": "            Recency     Frequency       Monetary\ncount  95419.000000  95419.000000   95419.000000\nmean     243.496484      1.232469     212.831142\nstd      153.153950      0.823064     641.763082\nmin        0.000000      1.000000       9.590000\n25%      119.000000      1.000000      63.910000\n50%      224.000000      1.000000     113.150000\n75%      353.000000      1.000000     202.545000\nmax      729.000000     75.000000  109312.640000",
      "text/html": "<div>\n<style scoped>\n    .dataframe tbody tr th:only-of-type {\n        vertical-align: middle;\n    }\n\n    .dataframe tbody tr th {\n        vertical-align: top;\n    }\n\n    .dataframe thead th {\n        text-align: right;\n    }\n</style>\n<table border=\"1\" class=\"dataframe\">\n  <thead>\n    <tr style=\"text-align: right;\">\n      <th></th>\n      <th>Recency</th>\n      <th>Frequency</th>\n      <th>Monetary</th>\n    </tr>\n  </thead>\n  <tbody>\n    <tr>\n      <th>count</th>\n      <td>95419.000000</td>\n      <td>95419.000000</td>\n      <td>95419.000000</td>\n    </tr>\n    <tr>\n      <th>mean</th>\n      <td>243.496484</td>\n      <td>1.232469</td>\n      <td>212.831142</td>\n    </tr>\n    <tr>\n      <th>std</th>\n      <td>153.153950</td>\n      <td>0.823064</td>\n      <td>641.763082</td>\n    </tr>\n    <tr>\n      <th>min</th>\n      <td>0.000000</td>\n      <td>1.000000</td>\n      <td>9.590000</td>\n    </tr>\n    <tr>\n      <th>25%</th>\n      <td>119.000000</td>\n      <td>1.000000</td>\n      <td>63.910000</td>\n    </tr>\n    <tr>\n      <th>50%</th>\n      <td>224.000000</td>\n      <td>1.000000</td>\n      <td>113.150000</td>\n    </tr>\n    <tr>\n      <th>75%</th>\n      <td>353.000000</td>\n      <td>1.000000</td>\n      <td>202.545000</td>\n    </tr>\n    <tr>\n      <th>max</th>\n      <td>729.000000</td>\n      <td>75.000000</td>\n      <td>109312.640000</td>\n    </tr>\n  </tbody>\n</table>\n</div>"
     },
     "execution_count": 15,
     "metadata": {},
     "output_type": "execute_result"
    }
   ],
   "source": [
    "rfm.describe()"
   ],
   "metadata": {
    "collapsed": false
   }
  },
  {
   "cell_type": "code",
   "execution_count": 16,
   "outputs": [
    {
     "data": {
      "text/plain": "{'Recency': {0.25: 119.0, 0.5: 224.0, 0.75: 353.0},\n 'Frequency': {0.25: 1.0, 0.5: 1.0, 0.75: 1.0},\n 'Monetary': {0.25: 63.91, 0.5: 113.15, 0.75: 202.54500000000002}}"
     },
     "execution_count": 16,
     "metadata": {},
     "output_type": "execute_result"
    }
   ],
   "source": [
    "quantiles = rfm.quantile(q=[0.25,0.50,0.75])\n",
    "quantiles = quantiles.to_dict()\n",
    "quantiles"
   ],
   "metadata": {
    "collapsed": false
   }
  },
  {
   "cell_type": "code",
   "execution_count": 17,
   "outputs": [],
   "source": [
    "def recency_score(x,p,d):\n",
    "    if x<=d[p][0.25]:\n",
    "        return 1\n",
    "    if x<=d[p][0.50]:\n",
    "        return 2\n",
    "    if x<=d[p][0.75]:\n",
    "        return 3\n",
    "    else:\n",
    "        return 4\n",
    "\n",
    "def frequency_monetary_score(x,p,d):\n",
    "        if x<=d[p][0.25]:\n",
    "            return 4\n",
    "        if x<=d[p][0.50]:\n",
    "            return 3\n",
    "        if x<=d[p][0.75]:\n",
    "            return 2\n",
    "        else:\n",
    "            return 1"
   ],
   "metadata": {
    "collapsed": false
   }
  },
  {
   "cell_type": "code",
   "execution_count": 18,
   "outputs": [],
   "source": [
    "segmented_rfm = rfm.copy()"
   ],
   "metadata": {
    "collapsed": false
   }
  },
  {
   "cell_type": "code",
   "execution_count": 19,
   "outputs": [],
   "source": [
    "segmented_rfm['R_quartile'] = segmented_rfm['Recency'].apply(recency_score,args=('Recency',quantiles))\n",
    "segmented_rfm['F_quartile'] = segmented_rfm['Frequency'].apply(frequency_monetary_score,args=('Frequency',quantiles))\n",
    "segmented_rfm['M_quartile'] = segmented_rfm['Monetary'].apply(frequency_monetary_score,args=('Monetary',quantiles))\n",
    "segmented_rfm['RFM_Segment'] = segmented_rfm.R_quartile.map(str)+segmented_rfm.F_quartile.map(str)+segmented_rfm.M_quartile.map(str)\n",
    "segmented_rfm['RFM_Score'] = segmented_rfm[['R_quartile','F_quartile','M_quartile']].sum(axis=1)"
   ],
   "metadata": {
    "collapsed": false
   }
  },
  {
   "cell_type": "code",
   "execution_count": 20,
   "outputs": [
    {
     "data": {
      "text/plain": "                     customer_unique_id  Recency  Frequency  Monetary  \\\n0      0000366f3b9a7992bf8c76cfdf3221e2      116          1    141.90   \n1      0000b849f77a49e4a4ce2b2a4ca5be3f      119          1     27.19   \n2      0000f46a3911fa3c0805444483337064      542          1     86.22   \n3      0000f6ccb0745a6a4b88665a16c9f078      326          1     43.62   \n4      0004aac84e0df4da2b147fca70cf8255      293          1    196.89   \n...                                 ...      ...        ...       ...   \n95414  fffcf5a5ff07b0908bd4e2dbc735a684      452          2   4134.84   \n95415  fffea47cd6d3cc0a88bd621562a9d061      267          1     84.58   \n95416  ffff371b4d645b6ecea244b27531430a      573          1    112.46   \n95417  ffff5962728ec6157033ef9805bacc48      124          1    133.69   \n95418  ffffd2657e2aad2907e67c3e9daecbeb      489          1     71.56   \n\n       R_quartile  F_quartile  M_quartile RFM_Segment  RFM_Score  \n0               1           4           2         142          7  \n1               1           4           4         144          9  \n2               4           4           3         443         11  \n3               3           4           4         344         11  \n4               3           4           2         342          9  \n...           ...         ...         ...         ...        ...  \n95414           4           1           1         411          6  \n95415           3           4           3         343         10  \n95416           4           4           3         443         11  \n95417           2           4           2         242          8  \n95418           4           4           3         443         11  \n\n[95419 rows x 9 columns]",
      "text/html": "<div>\n<style scoped>\n    .dataframe tbody tr th:only-of-type {\n        vertical-align: middle;\n    }\n\n    .dataframe tbody tr th {\n        vertical-align: top;\n    }\n\n    .dataframe thead th {\n        text-align: right;\n    }\n</style>\n<table border=\"1\" class=\"dataframe\">\n  <thead>\n    <tr style=\"text-align: right;\">\n      <th></th>\n      <th>customer_unique_id</th>\n      <th>Recency</th>\n      <th>Frequency</th>\n      <th>Monetary</th>\n      <th>R_quartile</th>\n      <th>F_quartile</th>\n      <th>M_quartile</th>\n      <th>RFM_Segment</th>\n      <th>RFM_Score</th>\n    </tr>\n  </thead>\n  <tbody>\n    <tr>\n      <th>0</th>\n      <td>0000366f3b9a7992bf8c76cfdf3221e2</td>\n      <td>116</td>\n      <td>1</td>\n      <td>141.90</td>\n      <td>1</td>\n      <td>4</td>\n      <td>2</td>\n      <td>142</td>\n      <td>7</td>\n    </tr>\n    <tr>\n      <th>1</th>\n      <td>0000b849f77a49e4a4ce2b2a4ca5be3f</td>\n      <td>119</td>\n      <td>1</td>\n      <td>27.19</td>\n      <td>1</td>\n      <td>4</td>\n      <td>4</td>\n      <td>144</td>\n      <td>9</td>\n    </tr>\n    <tr>\n      <th>2</th>\n      <td>0000f46a3911fa3c0805444483337064</td>\n      <td>542</td>\n      <td>1</td>\n      <td>86.22</td>\n      <td>4</td>\n      <td>4</td>\n      <td>3</td>\n      <td>443</td>\n      <td>11</td>\n    </tr>\n    <tr>\n      <th>3</th>\n      <td>0000f6ccb0745a6a4b88665a16c9f078</td>\n      <td>326</td>\n      <td>1</td>\n      <td>43.62</td>\n      <td>3</td>\n      <td>4</td>\n      <td>4</td>\n      <td>344</td>\n      <td>11</td>\n    </tr>\n    <tr>\n      <th>4</th>\n      <td>0004aac84e0df4da2b147fca70cf8255</td>\n      <td>293</td>\n      <td>1</td>\n      <td>196.89</td>\n      <td>3</td>\n      <td>4</td>\n      <td>2</td>\n      <td>342</td>\n      <td>9</td>\n    </tr>\n    <tr>\n      <th>...</th>\n      <td>...</td>\n      <td>...</td>\n      <td>...</td>\n      <td>...</td>\n      <td>...</td>\n      <td>...</td>\n      <td>...</td>\n      <td>...</td>\n      <td>...</td>\n    </tr>\n    <tr>\n      <th>95414</th>\n      <td>fffcf5a5ff07b0908bd4e2dbc735a684</td>\n      <td>452</td>\n      <td>2</td>\n      <td>4134.84</td>\n      <td>4</td>\n      <td>1</td>\n      <td>1</td>\n      <td>411</td>\n      <td>6</td>\n    </tr>\n    <tr>\n      <th>95415</th>\n      <td>fffea47cd6d3cc0a88bd621562a9d061</td>\n      <td>267</td>\n      <td>1</td>\n      <td>84.58</td>\n      <td>3</td>\n      <td>4</td>\n      <td>3</td>\n      <td>343</td>\n      <td>10</td>\n    </tr>\n    <tr>\n      <th>95416</th>\n      <td>ffff371b4d645b6ecea244b27531430a</td>\n      <td>573</td>\n      <td>1</td>\n      <td>112.46</td>\n      <td>4</td>\n      <td>4</td>\n      <td>3</td>\n      <td>443</td>\n      <td>11</td>\n    </tr>\n    <tr>\n      <th>95417</th>\n      <td>ffff5962728ec6157033ef9805bacc48</td>\n      <td>124</td>\n      <td>1</td>\n      <td>133.69</td>\n      <td>2</td>\n      <td>4</td>\n      <td>2</td>\n      <td>242</td>\n      <td>8</td>\n    </tr>\n    <tr>\n      <th>95418</th>\n      <td>ffffd2657e2aad2907e67c3e9daecbeb</td>\n      <td>489</td>\n      <td>1</td>\n      <td>71.56</td>\n      <td>4</td>\n      <td>4</td>\n      <td>3</td>\n      <td>443</td>\n      <td>11</td>\n    </tr>\n  </tbody>\n</table>\n<p>95419 rows × 9 columns</p>\n</div>"
     },
     "execution_count": 20,
     "metadata": {},
     "output_type": "execute_result"
    }
   ],
   "source": [
    "segmented_rfm"
   ],
   "metadata": {
    "collapsed": false
   }
  },
  {
   "cell_type": "code",
   "execution_count": 21,
   "outputs": [
    {
     "name": "stdout",
     "output_type": "stream",
     "text": [
      "Best Customers:  2425\n",
      "Churned Best Customers 2945\n",
      "High-spending New Customers 9141\n",
      "Lost Cheap Customers:  5804\n"
     ]
    }
   ],
   "source": [
    "print(\"Best Customers: \",len(segmented_rfm[segmented_rfm['RFM_Segment']=='111']))\n",
    "print(\"Churned Best Customers\",len(segmented_rfm[segmented_rfm['RFM_Segment']=='411']) + len(segmented_rfm[segmented_rfm['RFM_Segment']=='421']) + len(segmented_rfm[segmented_rfm['RFM_Segment']=='412'])\n",
    "      + len(segmented_rfm[segmented_rfm['RFM_Segment']=='422']))\n",
    "print(\"High-spending New Customers\",len(segmented_rfm[segmented_rfm['RFM_Segment']=='141'] )+ len(segmented_rfm[segmented_rfm['RFM_Segment']=='142']))\n",
    "print('Lost Cheap Customers: ',len(segmented_rfm[segmented_rfm['RFM_Segment']=='444']))"
   ],
   "metadata": {
    "collapsed": false
   }
  },
  {
   "cell_type": "code",
   "execution_count": 22,
   "outputs": [
    {
     "data": {
      "text/plain": "           customer_unique_id  Recency  Frequency  Monetary  R_quartile  \\\nRFM_Score                                                                 \n3                        2425     2425       2425      2425        2425   \n4                        3064     3064       3064      3064        3064   \n5                        3395     3395       3395      3395        3395   \n6                        6976     6976       6976      6976        6976   \n7                       10324    10324      10324     10324       10324   \n8                       15032    15032      15032     15032       15032   \n9                       20407    20407      20407     20407       20407   \n10                      16604    16604      16604     16604       16604   \n11                      11388    11388      11388     11388       11388   \n12                       5804     5804       5804      5804        5804   \n\n           F_quartile  M_quartile  RFM_Segment  \nRFM_Score                                       \n3                2425        2425         2425  \n4                3064        3064         3064  \n5                3395        3395         3395  \n6                6976        6976         6976  \n7               10324       10324        10324  \n8               15032       15032        15032  \n9               20407       20407        20407  \n10              16604       16604        16604  \n11              11388       11388        11388  \n12               5804        5804         5804  ",
      "text/html": "<div>\n<style scoped>\n    .dataframe tbody tr th:only-of-type {\n        vertical-align: middle;\n    }\n\n    .dataframe tbody tr th {\n        vertical-align: top;\n    }\n\n    .dataframe thead th {\n        text-align: right;\n    }\n</style>\n<table border=\"1\" class=\"dataframe\">\n  <thead>\n    <tr style=\"text-align: right;\">\n      <th></th>\n      <th>customer_unique_id</th>\n      <th>Recency</th>\n      <th>Frequency</th>\n      <th>Monetary</th>\n      <th>R_quartile</th>\n      <th>F_quartile</th>\n      <th>M_quartile</th>\n      <th>RFM_Segment</th>\n    </tr>\n    <tr>\n      <th>RFM_Score</th>\n      <th></th>\n      <th></th>\n      <th></th>\n      <th></th>\n      <th></th>\n      <th></th>\n      <th></th>\n      <th></th>\n    </tr>\n  </thead>\n  <tbody>\n    <tr>\n      <th>3</th>\n      <td>2425</td>\n      <td>2425</td>\n      <td>2425</td>\n      <td>2425</td>\n      <td>2425</td>\n      <td>2425</td>\n      <td>2425</td>\n      <td>2425</td>\n    </tr>\n    <tr>\n      <th>4</th>\n      <td>3064</td>\n      <td>3064</td>\n      <td>3064</td>\n      <td>3064</td>\n      <td>3064</td>\n      <td>3064</td>\n      <td>3064</td>\n      <td>3064</td>\n    </tr>\n    <tr>\n      <th>5</th>\n      <td>3395</td>\n      <td>3395</td>\n      <td>3395</td>\n      <td>3395</td>\n      <td>3395</td>\n      <td>3395</td>\n      <td>3395</td>\n      <td>3395</td>\n    </tr>\n    <tr>\n      <th>6</th>\n      <td>6976</td>\n      <td>6976</td>\n      <td>6976</td>\n      <td>6976</td>\n      <td>6976</td>\n      <td>6976</td>\n      <td>6976</td>\n      <td>6976</td>\n    </tr>\n    <tr>\n      <th>7</th>\n      <td>10324</td>\n      <td>10324</td>\n      <td>10324</td>\n      <td>10324</td>\n      <td>10324</td>\n      <td>10324</td>\n      <td>10324</td>\n      <td>10324</td>\n    </tr>\n    <tr>\n      <th>8</th>\n      <td>15032</td>\n      <td>15032</td>\n      <td>15032</td>\n      <td>15032</td>\n      <td>15032</td>\n      <td>15032</td>\n      <td>15032</td>\n      <td>15032</td>\n    </tr>\n    <tr>\n      <th>9</th>\n      <td>20407</td>\n      <td>20407</td>\n      <td>20407</td>\n      <td>20407</td>\n      <td>20407</td>\n      <td>20407</td>\n      <td>20407</td>\n      <td>20407</td>\n    </tr>\n    <tr>\n      <th>10</th>\n      <td>16604</td>\n      <td>16604</td>\n      <td>16604</td>\n      <td>16604</td>\n      <td>16604</td>\n      <td>16604</td>\n      <td>16604</td>\n      <td>16604</td>\n    </tr>\n    <tr>\n      <th>11</th>\n      <td>11388</td>\n      <td>11388</td>\n      <td>11388</td>\n      <td>11388</td>\n      <td>11388</td>\n      <td>11388</td>\n      <td>11388</td>\n      <td>11388</td>\n    </tr>\n    <tr>\n      <th>12</th>\n      <td>5804</td>\n      <td>5804</td>\n      <td>5804</td>\n      <td>5804</td>\n      <td>5804</td>\n      <td>5804</td>\n      <td>5804</td>\n      <td>5804</td>\n    </tr>\n  </tbody>\n</table>\n</div>"
     },
     "execution_count": 22,
     "metadata": {},
     "output_type": "execute_result"
    }
   ],
   "source": [
    "segmented_rfm.groupby('RFM_Score').count()"
   ],
   "metadata": {
    "collapsed": false
   }
  },
  {
   "cell_type": "code",
   "execution_count": null,
   "outputs": [],
   "source": [
    "def distribution_plot(column):\n",
    "    plt.title('Distribution of ' + column)\n",
    "    sns.distplot(rfm[column])\n",
    "    plt.show()\n",
    "    return"
   ],
   "metadata": {
    "collapsed": false
   }
  },
  {
   "cell_type": "code",
   "execution_count": null,
   "outputs": [],
   "source": [
    "for col in rfm.columns[1:]:\n",
    "    distribution_plot(col)"
   ],
   "metadata": {
    "collapsed": false
   }
  },
  {
   "cell_type": "markdown",
   "source": [],
   "metadata": {
    "collapsed": false
   }
  }
 ],
 "metadata": {
  "kernelspec": {
   "display_name": "Python 3",
   "language": "python",
   "name": "python3"
  },
  "language_info": {
   "codemirror_mode": {
    "name": "ipython",
    "version": 2
   },
   "file_extension": ".py",
   "mimetype": "text/x-python",
   "name": "python",
   "nbconvert_exporter": "python",
   "pygments_lexer": "ipython2",
   "version": "2.7.6"
  }
 },
 "nbformat": 4,
 "nbformat_minor": 0
}
