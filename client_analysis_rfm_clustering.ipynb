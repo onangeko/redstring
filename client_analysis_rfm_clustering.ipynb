{
 "cells": [
  {
   "cell_type": "code",
   "execution_count": 1,
   "outputs": [],
   "source": [
    "#Importing libraries\n",
    "\n",
    "import numpy as np\n",
    "import pandas as pd\n",
    "from pandas.api.types import is_string_dtype, is_numeric_dtype\n",
    "import warnings\n",
    "warnings.filterwarnings( 'ignore' )\n",
    "import datetime as dt\n",
    "import seaborn as sns\n",
    "import matplotlib.pyplot as plt"
   ],
   "metadata": {
    "collapsed": false,
    "pycharm": {
     "name": "#%%\n"
    }
   }
  },
  {
   "cell_type": "code",
   "execution_count": 2,
   "outputs": [],
   "source": [
    "#Function definition\n",
    "\n",
    "def distribution_plot(df,column):\n",
    "    plt.title('Distribution of ' + column)\n",
    "    sns.distplot(df[column])\n",
    "    plt.show()\n",
    "    return\n"
   ],
   "metadata": {
    "collapsed": false,
    "pycharm": {
     "name": "#%%\n"
    }
   }
  },
  {
   "cell_type": "raw",
   "source": [
    "DATASET EXPLORATION"
   ],
   "metadata": {
    "collapsed": false,
    "pycharm": {
     "name": "#%% raw\n"
    }
   }
  },
  {
   "cell_type": "code",
   "execution_count": 3,
   "outputs": [],
   "source": [
    "#Loading data\n",
    "customers = pd.read_csv(\"datas/olist_customers_dataset.csv\")\n",
    "order_items = pd.read_csv(\"datas/olist_order_items_dataset.csv\")\n",
    "order_payments = pd.read_csv(\"datas/olist_order_payments_dataset.csv\")\n",
    "orders = pd.read_csv(\"datas/olist_orders_dataset.csv\")"
   ],
   "metadata": {
    "collapsed": false,
    "pycharm": {
     "name": "#%%\n"
    }
   }
  },
  {
   "cell_type": "code",
   "execution_count": 6,
   "outputs": [
    {
     "name": "stdout",
     "output_type": "stream",
     "text": [
      "Customers (99441, 5)\n",
      "Order Items (112650, 7)\n",
      "Payments (103886, 5)\n",
      "Orders (99441, 8)\n"
     ]
    }
   ],
   "source": [
    "data = {\n",
    "    'Customers': customers,\n",
    "    'Order Items': order_items,\n",
    "    'Payments': order_payments,\n",
    "    'Orders': orders\n",
    "}\n",
    "#Datasets shapes\n",
    "for x,y in data.items():\n",
    "    print(x,y.shape)"
   ],
   "metadata": {
    "collapsed": false,
    "pycharm": {
     "name": "#%%\n"
    }
   }
  },
  {
   "cell_type": "code",
   "execution_count": 7,
   "outputs": [
    {
     "name": "stdout",
     "output_type": "stream",
     "text": [
      "Customers \n",
      "\n",
      "customer_id                 0\n",
      "customer_unique_id          0\n",
      "customer_zip_code_prefix    0\n",
      "customer_city               0\n",
      "customer_state              0\n",
      "dtype: int64 \n",
      "\n",
      "Order Items \n",
      "\n",
      "order_id               0\n",
      "order_item_id          0\n",
      "product_id             0\n",
      "seller_id              0\n",
      "shipping_limit_date    0\n",
      "price                  0\n",
      "freight_value          0\n",
      "dtype: int64 \n",
      "\n",
      "Payments \n",
      "\n",
      "order_id                0\n",
      "payment_sequential      0\n",
      "payment_type            0\n",
      "payment_installments    0\n",
      "payment_value           0\n",
      "dtype: int64 \n",
      "\n",
      "Orders \n",
      "\n",
      "order_id                            0\n",
      "customer_id                         0\n",
      "order_status                        0\n",
      "order_purchase_timestamp            0\n",
      "order_approved_at                 160\n",
      "order_delivered_carrier_date     1783\n",
      "order_delivered_customer_date    2965\n",
      "order_estimated_delivery_date       0\n",
      "dtype: int64 \n",
      "\n"
     ]
    }
   ],
   "source": [
    "#Finding NaN values\n",
    "for x,y in data.items():\n",
    "    print(x,'\\n')\n",
    "    print(y.isna().sum(),'\\n')"
   ],
   "metadata": {
    "collapsed": false,
    "pycharm": {
     "name": "#%%\n"
    }
   }
  },
  {
   "cell_type": "code",
   "execution_count": 8,
   "outputs": [
    {
     "name": "stdout",
     "output_type": "stream",
     "text": [
      "Customers \n",
      "\n",
      "0 \n",
      "\n",
      "Order Items \n",
      "\n",
      "0 \n",
      "\n",
      "Payments \n",
      "\n",
      "0 \n",
      "\n",
      "Orders \n",
      "\n",
      "0 \n",
      "\n"
     ]
    }
   ],
   "source": [
    "#Finding duplicates\n",
    "for x,y in data.items():\n",
    "    print(x,'\\n')\n",
    "    print(y.duplicated().sum(),'\\n')"
   ],
   "metadata": {
    "collapsed": false,
    "pycharm": {
     "name": "#%%\n"
    }
   }
  },
  {
   "cell_type": "code",
   "execution_count": null,
   "outputs": [],
   "source": [
    "#Merge the datasets into one dataframe\n",
    "df = pd.merge(orders, order_payments, on='order_id')\n",
    "df = df.merge(customers, on='customer_id')\n",
    "df = df.merge(order_items, on='order_id')\n",
    "df.head()"
   ],
   "metadata": {
    "collapsed": false,
    "pycharm": {
     "name": "#%%\n"
    }
   }
  },
  {
   "cell_type": "code",
   "execution_count": null,
   "outputs": [],
   "source": [
    "#Summary statistics of the dataframe\n",
    "df.describe()"
   ],
   "metadata": {
    "collapsed": false,
    "pycharm": {
     "name": "#%%\n"
    }
   }
  },
  {
   "cell_type": "code",
   "execution_count": null,
   "outputs": [],
   "source": [],
   "metadata": {
    "collapsed": false,
    "pycharm": {
     "name": "#%%\n"
    }
   }
  }
 ],
 "metadata": {
  "kernelspec": {
   "display_name": "Python 3",
   "language": "python",
   "name": "python3"
  },
  "language_info": {
   "codemirror_mode": {
    "name": "ipython",
    "version": 2
   },
   "file_extension": ".py",
   "mimetype": "text/x-python",
   "name": "python",
   "nbconvert_exporter": "python",
   "pygments_lexer": "ipython2",
   "version": "2.7.6"
  }
 },
 "nbformat": 4,
 "nbformat_minor": 0
}